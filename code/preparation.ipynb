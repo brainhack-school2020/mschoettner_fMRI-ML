{
 "cells": [
  {
   "cell_type": "markdown",
   "metadata": {},
   "source": [
    "# Training a machine learning classifier on resting state fMRI or structural MRI data\n",
    "\n",
    "The goal is to train a classifier on MRI data. Two suitable data sets were identified.\n",
    "\n",
    "## Getting the data\n",
    "\n",
    "The ABIDE data set can be downloaded using nilearn. The data set contains resting state fMRI data from multiple sites. Some of the participants had Autism Spectrum Disorder (ASD). This dataset could be used to train a classifier to distinguish ASD and control participants based on the resting state data.\n",
    "\n",
    "The data were preprocessed with different pipelines. We will download the data preprocessed with the CPAC pipeline. For more on the differences between pipelines see [here](http://preprocessed-connectomes-project.org/abide/Pipelines.html).\n",
    "\n",
    "We are setting quality_checked to \"True\", to only include subjects that passed quality control."
   ]
  },
  {
   "cell_type": "code",
   "execution_count": 1,
   "metadata": {},
   "outputs": [
    {
     "name": "stderr",
     "output_type": "stream",
     "text": [
      "/home/mikkel/miniconda3/lib/python3.7/site-packages/numpy/lib/npyio.py:2372: VisibleDeprecationWarning: Reading unicode strings without specifying the encoding argument is deprecated. Set the encoding, use None for the system default.\n",
      "  output = genfromtxt(fname, **kwargs)\n"
     ]
    }
   ],
   "source": [
    "from nilearn import datasets\n",
    "#CHANGE PATH TO WERE YOU WANT TO STORE THE DATA\n",
    "abide = datasets.fetch_abide_pcp(data_dir=\"/mnt/c/brainhackschool/project/data\",\n",
    "                                n_subjects=2,\n",
    "                                pipeline=\"cpac\",\n",
    "                                quality_checked=True,\n",
    "                                )"
   ]
  },
  {
   "cell_type": "markdown",
   "metadata": {},
   "source": [
    "Another suitable dataset is [this one](https://openneuro.org/datasets/ds002726/versions/1.0.1). It contains T1 weighted structural MRI images of gifted and control children. A classifier could be trained to predict if a child is gifted or not based on cortical thickness of 308 regions.\n",
    "\n",
    "The data can be downloaded using [AWS CLI](https://aws.amazon.com/de/cli/) or [datalad](https://www.datalad.org/). See the [download page](https://openneuro.org/datasets/ds002726/versions/1.0.1/download) of the data set for more information."
   ]
  },
  {
   "cell_type": "code",
   "execution_count": null,
   "metadata": {},
   "outputs": [],
   "source": []
  }
 ],
 "metadata": {
  "kernelspec": {
   "display_name": "Python 3",
   "language": "python",
   "name": "python3"
  },
  "language_info": {
   "codemirror_mode": {
    "name": "ipython",
    "version": 3
   },
   "file_extension": ".py",
   "mimetype": "text/x-python",
   "name": "python",
   "nbconvert_exporter": "python",
   "pygments_lexer": "ipython3",
   "version": "3.7.6"
  }
 },
 "nbformat": 4,
 "nbformat_minor": 4
}
